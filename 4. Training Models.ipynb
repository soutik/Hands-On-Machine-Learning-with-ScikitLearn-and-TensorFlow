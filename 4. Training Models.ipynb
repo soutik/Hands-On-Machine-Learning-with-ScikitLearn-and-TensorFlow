{
 "cells": [
  {
   "cell_type": "markdown",
   "metadata": {},
   "source": [
    "# Chap 4. Training Models\n",
    "\n",
    "In this chapter we will dive deeper into how models are trained. We will look at \n",
    "- Closed form solution to equation\n",
    "- Iteration based solution to equation (Gradient Descent and its variations)"
   ]
  },
  {
   "cell_type": "markdown",
   "metadata": {},
   "source": [
    "%%latex\n",
    "## Linear regression\n",
    "\n",
    "In linear regression we generally have an equation like the following :\n",
    "\n",
    "`y = b0 + b1\\*x1 + b2\\*x2`\n",
    "\n",
    "Where -\n",
    "* y : The predicted value of the target\n",
    "* b : Model parameters\n",
    "* x : Input variable\n",
    "\n",
    "In matrix form the equation can be written as:\n",
    "\n",
    "`y = b^T.X`"
   ]
  },
  {
   "cell_type": "code",
   "execution_count": null,
   "metadata": {},
   "outputs": [],
   "source": []
  },
  {
   "cell_type": "code",
   "execution_count": null,
   "metadata": {},
   "outputs": [],
   "source": []
  }
 ],
 "metadata": {
  "kernelspec": {
   "display_name": "Python 2",
   "language": "python",
   "name": "python2"
  },
  "language_info": {
   "codemirror_mode": {
    "name": "ipython",
    "version": 2
   },
   "file_extension": ".py",
   "mimetype": "text/x-python",
   "name": "python",
   "nbconvert_exporter": "python",
   "pygments_lexer": "ipython2",
   "version": "2.7.10"
  }
 },
 "nbformat": 4,
 "nbformat_minor": 2
}
